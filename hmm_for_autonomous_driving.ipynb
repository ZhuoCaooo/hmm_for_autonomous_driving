{
 "cells": [
  {
   "cell_type": "code",
   "execution_count": 38,
   "metadata": {},
   "outputs": [],
   "source": [
    "from hmmlearn import hmm  # https://www.lfd.uci.edu/~gohlke/pythonlibs/#hmmlearn for windows\n",
    "import numpy as np"
   ]
  },
  {
   "cell_type": "markdown",
   "metadata": {},
   "source": [
    "todo:\n",
    "- load real highway data from US Department of Transportation \n",
    "- https://github.com/hmmlearn/hmmlearn/issues/70\n",
    "- https://gist.github.com/dougalsutherland/1329976\n",
    "- https://drive.google.com/file/d/0B51S7y4fFTS2bnNLcnllc1dpdVE/view"
   ]
  },
  {
   "cell_type": "code",
   "execution_count": 39,
   "metadata": {},
   "outputs": [],
   "source": [
    "seed = 93\n",
    "np.random.seed(seed)"
   ]
  },
  {
   "cell_type": "code",
   "execution_count": 29,
   "metadata": {},
   "outputs": [],
   "source": [
    "states = [\"left_lane\", \"right_lane\"]\n",
    "observations = [\"low_speed\", \"high_speed\"]"
   ]
  },
  {
   "cell_type": "code",
   "execution_count": 30,
   "metadata": {},
   "outputs": [],
   "source": [
    "discrete_model = hmm.MultinomialHMM(n_components=2,\n",
    "                                    algorithm='viterbi',  # Decoder algorithm.\n",
    "                                    # algorithm='map'\n",
    "                                    random_state=seed,\n",
    "                                    n_iter=10,\n",
    "                                    tol=0.01  # EM Convergence threshold (gain in log-likelihood)\n",
    "                                   )\n",
    "discrete_model.startprob_ = np.array(\n",
    "    [1/3, 2/3]\n",
    ")\n",
    "discrete_model.transmat_ = np.array([\n",
    "    [0.6, 0.4],  # P(state_t+1|state_t=state_0)\n",
    "    [0.2, 0.8]]  # P(state_t+1|state_t=state_1)\n",
    ")\n",
    "discrete_model.emissionprob_ = np.array(\n",
    "    [[0.4, 0.6],  # P(obs|state_0)\n",
    "     [0.8, 0.2]]  # P(obs|state_1)\n",
    ")"
   ]
  },
  {
   "cell_type": "markdown",
   "metadata": {},
   "source": [
    "### Sampling\n",
    "Generate samples from the HMM "
   ]
  },
  {
   "cell_type": "code",
   "execution_count": 31,
   "metadata": {},
   "outputs": [
    {
     "name": "stdout",
     "output_type": "stream",
     "text": [
      "Counter({1: 66134, 0: 33866})\n",
      "Counter({0: 66520, 1: 33480})\n"
     ]
    }
   ],
   "source": [
    "# use the parameters to generates samples\n",
    "# using a large sample size to estimate the stationary state distributions: 1/3 vs 2/3\n",
    "# (n_samples, n_features)\n",
    "Obss, States = discrete_model.sample(100000)\n",
    "States = States.flatten()\n",
    "Obss = Obss.flatten()\n",
    "from collections import Counter\n",
    "print(Counter(States))\n",
    "print(Counter(Obss))"
   ]
  },
  {
   "cell_type": "code",
   "execution_count": 37,
   "metadata": {},
   "outputs": [
    {
     "name": "stdout",
     "output_type": "stream",
     "text": [
      "[[0.6 0.2]\n",
      " [0.4 0.8]]\n",
      "[[-0.70710678 -0.4472136 ]\n",
      " [ 0.70710678 -0.89442719]]\n",
      "[-0.4472136  -0.89442719]\n",
      "[0.4 1. ]\n",
      "[0.33333333 0.66666667]\n",
      "0.7071067811865476\n"
     ]
    }
   ],
   "source": [
    "# print(discrete_model.get_stationary_distribution())\n",
    "eigvals, eigvecs = np.linalg.eig(discrete_model.transmat_.T)\n",
    "eigvec = np.real_if_close(eigvecs[:, np.argmax(eigvals)])\n",
    "print(discrete_model.transmat_.T)\n",
    "print(eigvecs)\n",
    "print(eigvec)\n",
    "print(eigvals)\n",
    "print(eigvec / eigvec.sum())\n",
    "print(np.sqrt(2)/2)\n",
    "\n",
    "# The stationary distribution is proportional to the left-eigenvector\n",
    "# associated with the largest eigenvalue (i.e., 1) of the transition matrix."
   ]
  },
  {
   "cell_type": "code",
   "execution_count": 36,
   "metadata": {},
   "outputs": [
    {
     "data": {
      "text/plain": [
       "0.6324555394589767"
      ]
     },
     "execution_count": 36,
     "metadata": {},
     "output_type": "execute_result"
    }
   ],
   "source": [
    "0.4472136 /0.70710678"
   ]
  },
  {
   "cell_type": "markdown",
   "metadata": {},
   "source": [
    "### Decoding\n",
    "Find most likely state sequence corresponding to the observation sequence"
   ]
  },
  {
   "cell_type": "code",
   "execution_count": 16,
   "metadata": {},
   "outputs": [
    {
     "name": "stdout",
     "output_type": "stream",
     "text": [
      "right_lane -> low_speed\n",
      "right_lane -> high_speed\n",
      "right_lane -> low_speed\n",
      "\n",
      "prob = 0.05461333333333335\n",
      "log_prob = -2.9074772257991035\n"
     ]
    }
   ],
   "source": [
    "obs_sequence = np.array([[0, 1, 0]]).T\n",
    "logprob, state_sequence = discrete_model.decode(obs_sequence)\n",
    "\n",
    "# Log probability of the produced state sequence\n",
    "for o, s in zip(obs_sequence.T[0], state_sequence):\n",
    "    print(\"{} -> {}\".format(states[int(s)], observations[int(o)]))\n",
    "print(\"\\nprob = {}\\nlog_prob = {}\".format(np.exp(logprob), logprob))"
   ]
  },
  {
   "cell_type": "markdown",
   "metadata": {},
   "source": [
    "### Learning\n",
    "Estimate HMM model parameters based on observation data"
   ]
  },
  {
   "cell_type": "code",
   "execution_count": 19,
   "metadata": {},
   "outputs": [
    {
     "name": "stdout",
     "output_type": "stream",
     "text": [
      "[[9.26752917e-09 9.99999991e-01]\n",
      " [1.00000000e+00 5.77188052e-39]]\n"
     ]
    }
   ],
   "source": [
    "obs_sequence = np.array([[0, 1, 0]]).T\n",
    "new_model = discrete_model.fit(obs_sequence)\n",
    "print(new_model.transmat_)"
   ]
  },
  {
   "cell_type": "code",
   "execution_count": 127,
   "metadata": {},
   "outputs": [],
   "source": [
    "# sample with sample()\n",
    "# train an HMM by calling the fit() method.\n",
    "# the inferred optimal hidden states can be obtained by calling predict() method.\n",
    "#     Viterbi algorithm (\"viterbi\"), and maximum a posteriori estimation (\"map\") are supported\n",
    "# the score of the model can be calculated by the score() method."
   ]
  },
  {
   "cell_type": "code",
   "execution_count": null,
   "metadata": {},
   "outputs": [],
   "source": [
    "eigenvalue of the matrix"
   ]
  }
 ],
 "metadata": {
  "kernelspec": {
   "display_name": "draft",
   "language": "python",
   "name": "draft"
  }
 },
 "nbformat": 4,
 "nbformat_minor": 2
}
