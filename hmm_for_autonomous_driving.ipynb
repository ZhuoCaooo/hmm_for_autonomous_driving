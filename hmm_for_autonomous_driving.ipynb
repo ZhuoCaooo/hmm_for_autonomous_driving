{
 "cells": [
  {
   "cell_type": "code",
   "execution_count": 59,
   "metadata": {},
   "outputs": [],
   "source": [
    "from hmmlearn import hmm\n",
    "import numpy as np"
   ]
  },
  {
   "cell_type": "code",
   "execution_count": 60,
   "metadata": {},
   "outputs": [],
   "source": [
    "seed = 93\n",
    "np.random.seed(seed)"
   ]
  },
  {
   "cell_type": "code",
   "execution_count": 61,
   "metadata": {},
   "outputs": [],
   "source": [
    "states = [\"left_lane\", \"right_lane\"]\n",
    "observations = [\"low_speed\", \"high_speed\"]"
   ]
  },
  {
   "cell_type": "code",
   "execution_count": 62,
   "metadata": {},
   "outputs": [],
   "source": [
    "discrete_model = hmm.MultinomialHMM(n_components=2,\n",
    "                                    algorithm='viterbi',  # Decoder algorithm.\n",
    "                                    # algorithm='map'  # todo: what does MaP?\n",
    "                                    random_state=seed,\n",
    "                                    n_iter=10,\n",
    "                                    tol=0.01  # EM Convergence threshold (gain in log-likelihood)\n",
    "                                   )"
   ]
  },
  {
   "cell_type": "markdown",
   "metadata": {},
   "source": [
    "# Q1 - How to easily estimate the parameters of our HMM?\n",
    "Here are the results of the estimation procedure based on **counting from the labelled data**. It constitutes the **MLE**."
   ]
  },
  {
   "cell_type": "code",
   "execution_count": 63,
   "metadata": {},
   "outputs": [],
   "source": [
    "discrete_model.startprob_ = np.array(\n",
    "    [1/3, 2/3]\n",
    ")\n",
    "discrete_model.transmat_ = np.array([\n",
    "    [0.6, 0.4],  # P(state_t+1|state_t=state_0)\n",
    "    [0.2, 0.8]]  # P(state_t+1|state_t=state_1)\n",
    ")\n",
    "discrete_model.emissionprob_ = np.array(\n",
    "    [[0.4, 0.6],  # P(obs|state_0)\n",
    "     [0.8, 0.2]]  # P(obs|state_1)\n",
    ")"
   ]
  },
  {
   "cell_type": "markdown",
   "metadata": {},
   "source": [
    "### Sampling\n",
    "Generate samples from the HMM "
   ]
  },
  {
   "cell_type": "code",
   "execution_count": 64,
   "metadata": {},
   "outputs": [
    {
     "name": "stdout",
     "output_type": "stream",
     "text": [
      "Counter({1: 66134, 0: 33866})\n",
      "Counter({0: 66520, 1: 33480})\n"
     ]
    }
   ],
   "source": [
    "# use the parameters to generates samples\n",
    "# using a large sample size to estimate the stationary state distributions: 1/3 vs 2/3\n",
    "# (n_samples, n_features)\n",
    "Obss, States = discrete_model.sample(100000)\n",
    "States = States.flatten()\n",
    "Obss = Obss.flatten()\n",
    "from collections import Counter\n",
    "print(Counter(States))\n",
    "print(Counter(Obss))"
   ]
  },
  {
   "cell_type": "markdown",
   "metadata": {},
   "source": [
    "### Stationary distribution from the transition matrix\n",
    "The **stationary distribution** is a **left eigenvector** (as opposed to the usual right eigenvectors) of the **transition matrix**."
   ]
  },
  {
   "cell_type": "code",
   "execution_count": 65,
   "metadata": {},
   "outputs": [
    {
     "name": "stdout",
     "output_type": "stream",
     "text": [
      "[[-0.70710678 -0.4472136 ]\n",
      " [ 0.70710678 -0.89442719]]\n",
      "[0.4 1. ]\n",
      "[-0.4472136  -0.89442719]\n",
      "[0.33333333 0.66666667]\n",
      "[-0.28284271  0.28284271]\n",
      "3.5355339368654755\n",
      "[-0.4472136  -0.89442719]\n"
     ]
    }
   ],
   "source": [
    "eigvals, eigvecs = np.linalg.eig(discrete_model.transmat_.T)\n",
    "eigvec = np.real_if_close(eigvecs[:, np.argmax(eigvals)])\n",
    "print(eigvecs)\n",
    "print(eigvals)\n",
    "print(eigvec)\n",
    "# normalisation\n",
    "stat_distr = eigvec / eigvec.sum()\n",
    "print(stat_distr)\n",
    "\n",
    "# The stationary distribution is proportional to the left-eigenvector\n",
    "# associated with the largest eigenvalue (i.e., 1) of the transition matrix\n",
    "x1 = np.asarray([-0.70710678, 0.70710678 ])\n",
    "res1 = np.dot(discrete_model.transmat_.T, x1)\n",
    "print(res1)\n",
    "print(1/0.28284271)\n",
    "\n",
    "x2 = np.asarray([-0.4472136, -0.89442719])  # invariant\n",
    "res2 = np.dot(discrete_model.transmat_.T, x2)\n",
    "print(res2)"
   ]
  },
  {
   "cell_type": "code",
   "execution_count": 66,
   "metadata": {},
   "outputs": [
    {
     "data": {
      "text/plain": [
       "0.6324555394589767"
      ]
     },
     "execution_count": 66,
     "metadata": {},
     "output_type": "execute_result"
    }
   ],
   "source": [
    "0.4472136 /0.70710678"
   ]
  },
  {
   "cell_type": "markdown",
   "metadata": {},
   "source": [
    "# Q2 - Given a single speed observation, what is the probability for the car to be in each of the two lanes?"
   ]
  },
  {
   "cell_type": "code",
   "execution_count": null,
   "metadata": {},
   "outputs": [],
   "source": []
  },
  {
   "cell_type": "markdown",
   "metadata": {},
   "source": [
    "# Q3 - What is the probability to observe a particular sequence of speed measurements?"
   ]
  },
  {
   "cell_type": "code",
   "execution_count": 67,
   "metadata": {},
   "outputs": [],
   "source": [
    "# log-likelihood"
   ]
  },
  {
   "cell_type": "markdown",
   "metadata": {},
   "source": [
    "# Q4 - Given a sequence of speed observations, what is the most likely current lane?"
   ]
  },
  {
   "cell_type": "code",
   "execution_count": null,
   "metadata": {},
   "outputs": [],
   "source": []
  },
  {
   "cell_type": "markdown",
   "metadata": {},
   "source": [
    "# Q5 - Given a sequence of speed observations, what is the most likely underlying lane sequence?"
   ]
  },
  {
   "cell_type": "code",
   "execution_count": null,
   "metadata": {},
   "outputs": [],
   "source": []
  },
  {
   "cell_type": "markdown",
   "metadata": {},
   "source": [
    "### Decoding\n",
    "Find most likely state sequence corresponding to the observation sequence"
   ]
  },
  {
   "cell_type": "code",
   "execution_count": 68,
   "metadata": {},
   "outputs": [
    {
     "name": "stdout",
     "output_type": "stream",
     "text": [
      "right_lane -> low_speed\n",
      "right_lane -> high_speed\n",
      "right_lane -> low_speed\n",
      "\n",
      "prob = 0.05461333333333335\n",
      "log_prob = -2.9074772257991035\n"
     ]
    }
   ],
   "source": [
    "obs_sequence = np.array([[0, 1, 0]]).T\n",
    "logprob, state_sequence = discrete_model.decode(obs_sequence)\n",
    "\n",
    "# Log probability of the produced state sequence\n",
    "for o, s in zip(obs_sequence.T[0], state_sequence):\n",
    "    print(\"{} -> {}\".format(states[int(s)], observations[int(o)]))\n",
    "print(\"\\nprob = {}\\nlog_prob = {}\".format(np.exp(logprob), logprob))"
   ]
  },
  {
   "cell_type": "markdown",
   "metadata": {},
   "source": [
    "# Q6 - How to estimate the parameters of our HMM when no state annotations are present in the training data?"
   ]
  },
  {
   "cell_type": "markdown",
   "metadata": {},
   "source": [
    "### Learning\n",
    "Estimate HMM model parameters based on observation data"
   ]
  },
  {
   "cell_type": "code",
   "execution_count": 69,
   "metadata": {},
   "outputs": [
    {
     "name": "stdout",
     "output_type": "stream",
     "text": [
      "[[3.70410311e-39 1.00000000e+00]\n",
      " [1.00000000e+00 2.77040565e-10]]\n"
     ]
    }
   ],
   "source": [
    "obs_sequence = np.array([[0, 1, 0]]).T\n",
    "new_model = discrete_model.fit(obs_sequence)\n",
    "print(new_model.transmat_)"
   ]
  },
  {
   "cell_type": "code",
   "execution_count": 70,
   "metadata": {},
   "outputs": [],
   "source": [
    "# sample with sample()\n",
    "# train an HMM by calling the fit() method.\n",
    "# the inferred optimal hidden states can be obtained by calling predict() method.\n",
    "#     Viterbi algorithm (\"viterbi\"), and maximum a posteriori estimation (\"map\") are supported\n",
    "# the score of the model can be calculated by the score() method."
   ]
  },
  {
   "cell_type": "code",
   "execution_count": null,
   "metadata": {},
   "outputs": [],
   "source": [
    "eigenvalue of the matrix"
   ]
  }
 ],
 "metadata": {
  "kernelspec": {
   "display_name": "draft",
   "language": "python",
   "name": "draft"
  }
 },
 "nbformat": 4,
 "nbformat_minor": 2
}
